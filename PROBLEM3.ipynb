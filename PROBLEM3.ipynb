{
 "cells": [
  {
   "cell_type": "code",
   "execution_count": 109,
   "metadata": {},
   "outputs": [],
   "source": [
    "#import pandas as pd\n",
    "#import numpy as np\n",
    "#import array as arr"
   ]
  },
  {
   "cell_type": "code",
   "execution_count": 110,
   "metadata": {},
   "outputs": [],
   "source": [
    "totaloptimaldistance =[1956.409536989422, 8336.093073178992,  18772.245730020917, 4025.563128828079,  11593.249515449956]\n",
    "countryList = ['KR', 'JP', 'CA', 'GB', 'CN']\n",
    "sentimentList=[1, 3, 1, -3, 3]\n",
    "newcountrylist = countryList #copy of countryList"
   ]
  },
  {
   "cell_type": "code",
   "execution_count": 111,
   "metadata": {},
   "outputs": [],
   "source": [
    "def minimumvalue(sentimentList,totaloptimaldistance): #define function minimumvalue\n",
    "    minValues = [min(sentimentList),min(totaloptimaldistance)] #return min value of score and distance\n",
    "\n",
    "    return minValues"
   ]
  },
  {
   "cell_type": "code",
   "execution_count": 112,
   "metadata": {},
   "outputs": [],
   "source": [
    "def maximumvalue(sentimentList,totaloptimaldistance): #define function maximumvalue\n",
    "    maxValues = [max(sentimentList),max(totaloptimaldistance)] #return max value of score and distance\n",
    "\n",
    "    return maxValues"
   ]
  },
  {
   "cell_type": "code",
   "execution_count": 113,
   "metadata": {},
   "outputs": [],
   "source": [
    "def calculateScore(sentimentList,totaloptimaldistance): #calculate score using minmax normalization\n",
    "    #score = (value-min/max-min) x weight\n",
    "\n",
    "    countryScore = [] #initialize list for country score\n",
    "    min = minimumvalue(sentimentList,totaloptimaldistance)[0] #get the minimum score\n",
    "    max = maximumvalue(sentimentList,totaloptimaldistance)[0] #get the maximum score\n",
    "    factor = max - min #denominator\n",
    "\n",
    "    for i in range(len(sentimentList)): \n",
    "        score = ((sentimentList[i] - (min-0.01))/factor)*50  #calculate country score\n",
    "        countryScore.append(score)\n",
    "\n",
    "    return countryScore"
   ]
  },
  {
   "cell_type": "code",
   "execution_count": 114,
   "metadata": {},
   "outputs": [],
   "source": [
    "def calculateDistanceScore(sentimentList,totaloptimaldistance): #calculate score using reversed min max normalization\n",
    "    # score = (max-value/max-min) x weight\n",
    "\n",
    "    distanceScore = [] #initialize list for distance score\n",
    "    min = minimumvalue(sentimentList,totaloptimaldistance)[1] #get the minimum distance score\n",
    "    max = maximumvalue(sentimentList,totaloptimaldistance)[1] #get the maximum distance score\n",
    "    factor = max - min #denominator\n",
    "\n",
    "    for i in range(len(totaloptimaldistance)): \n",
    "        score = (((max+0.01) - totaloptimaldistance[i])/factor)*50 #calculate country score\n",
    "        distanceScore.append(score)\n",
    "\n",
    "    return distanceScore"
   ]
  },
  {
   "cell_type": "code",
   "execution_count": 115,
   "metadata": {},
   "outputs": [],
   "source": [
    "def overallScore(sentimentList,totaloptimaldistance):#calculate overall score based on sentiment and distance\n",
    "    #sentimentScore + distanceScore\n",
    "    overallScore = [] # initialise List for sentiment score\n",
    "    \n",
    "    for i in range(len(sentimentList)):\n",
    "        overallScore.append (calculateScore(sentimentList, totaloptimaldistance)[i] + calculateDistanceScore(sentimentList, totaloptimaldistance)[i])\n",
    "    \n",
    "    return overallScore"
   ]
  },
  {
   "cell_type": "code",
   "execution_count": 116,
   "metadata": {},
   "outputs": [],
   "source": [
    "def calculateProbability(sentimentList, totaloptimaldistance): # calculate probability of selecting each country\n",
    "    probList = [] # intitialise list for probability\n",
    "    overall_Score = overallScore(sentimentList, totaloptimaldistance) # calculate overall score\n",
    "    total = sum(overall_Score) # sum of all countries overall score\n",
    "    \n",
    "    for i in range (len(overall_Score)) :\n",
    "        prob = overall_Score[i] / total # calculate probability using score per total score\n",
    "        probList.append(prob)\n",
    "    \n",
    "    return probList"
   ]
  },
  {
   "cell_type": "code",
   "execution_count": 117,
   "metadata": {},
   "outputs": [],
   "source": [
    "def sortProbability(sentimentList, totaloptimaldistance): #sorting the countries based on overall score\n",
    "    probability = calculateProbability(sentimentList, totaloptimaldistance) ## calculate probability of each country\n",
    "\n",
    "    #quicksort totalscore\n",
    "    def partition(l, r, list):\n",
    "        pivot, pointer = list[r], l # assign pivot and pointer\n",
    "\n",
    "        for i in range(l, r):\n",
    "            if list[i] <- pivot: # check if element is smaller than pivot\n",
    "                list[i], list[pointer] = list[pointer], list[i]\n",
    "                pointer += 1\n",
    "        list[pointer], list[r] = list[r], list[pointer]\n",
    "        return pointer\n",
    "\n",
    "    def quicksort (l, r, list):\n",
    "        if len(list) == 1:\n",
    "            return list\n",
    "\n",
    "        if l < r:\n",
    "            pi = partition(l, r, list)\n",
    "            quicksort(l, pi - 1, list)\n",
    "            quicksort (pi + 1, r, list)\n",
    "        return list\n",
    "\n",
    "    sortedProb = quicksort(0,len(probability)-1,probability) #call quick sort\n",
    "\n",
    "    #sortedProb.reverse() #reverse the order after sorting\n",
    "\n",
    "    return sortedProb"
   ]
  },
  {
   "cell_type": "code",
   "execution_count": 118,
   "metadata": {},
   "outputs": [],
   "source": [
    "def sortCountries (newcountrylist,sentimentList,totaloptimaldistance):\n",
    "    unsortedScore = calculateProbability(sentimentList, totaloptimaldistance) # calculate probability\n",
    "    sortedOverallScore = sortProbability(sentimentList,totaloptimaldistance) #sort probability\n",
    "    sortedCountrylist = [] # final sorted countries\n",
    "\n",
    "# get rankings of country based on overall score\n",
    "    for i in range(len(sortedOverallScore)):\n",
    "        for j in range(len(unsortedScore)):\n",
    "            if (sortedOverallScore[i] == unsortedScore[j]):\n",
    "                sortedCountrylist.append(newcountrylist[j])\n",
    "    \n",
    "    return sortedCountrylist"
   ]
  },
  {
   "cell_type": "code",
   "execution_count": 119,
   "metadata": {},
   "outputs": [],
   "source": [
    "def Ranking (newcountrylist,sentimentList,totaloptimaldistance): # ranking the countries\n",
    "    rankedCountries = sortCountries(newcountrylist, sentimentList, totaloptimaldistance) # sort countries\n",
    "    \n",
    "    scores = sortProbability(sentimentList, totaloptimaldistance) # sort scores\n",
    "\n",
    "    print(\"\\nThe ranking on the countries based on the score \")\n",
    "    print(\"\\n-------------------------------------------------------------\")\n",
    "\n",
    "    for i in range(len(rankedCountries)): # print the rankings of countries\n",
    "        format_score = \"{:.5f}\".format(scores[i])\n",
    "        print(\"Position \" + str(i + 1) + (\" : \") + rankedCountries[i] + \" with the probability of \" + format_score)\n",
    "\n",
    "    print (\"\\nThe most recommended country is \" + rankedCountries[0])\n",
    "    print (\"\\n----------------------------------------------------------------\")"
   ]
  },
  {
   "cell_type": "code",
   "execution_count": 120,
   "metadata": {},
   "outputs": [
    {
     "name": "stdout",
     "output_type": "stream",
     "text": [
      "\n",
      "The ranking on the countries based on the score \n",
      "\n",
      "-------------------------------------------------------------\n",
      "Position 1 : CN with the probability of 0.22798\n",
      "Position 2 : KR with the probability of 0.26625\n",
      "Position 3 : JP with the probability of 0.25890\n",
      "Position 4 : CA with the probability of 0.10666\n",
      "Position 5 : GB with the probability of 0.14022\n",
      "\n",
      "The most recommended country is CN\n",
      "\n",
      "----------------------------------------------------------------\n"
     ]
    }
   ],
   "source": [
    "Ranking(newcountrylist, sentimentList, totaloptimaldistance)"
   ]
  }
 ],
 "metadata": {
  "kernelspec": {
   "display_name": "Python 3.10.5 64-bit",
   "language": "python",
   "name": "python3"
  },
  "language_info": {
   "codemirror_mode": {
    "name": "ipython",
    "version": 3
   },
   "file_extension": ".py",
   "mimetype": "text/x-python",
   "name": "python",
   "nbconvert_exporter": "python",
   "pygments_lexer": "ipython3",
   "version": "3.10.5"
  },
  "orig_nbformat": 4,
  "vscode": {
   "interpreter": {
    "hash": "58837b1b657ea91009af8409fc244ae3b5ccf93ea980d6fb6b80adc5f697f4cc"
   }
  }
 },
 "nbformat": 4,
 "nbformat_minor": 2
}
