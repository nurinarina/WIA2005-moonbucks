{
 "cells": [
  {
   "cell_type": "code",
   "execution_count": 36,
   "id": "172c0bc9",
   "metadata": {},
   "outputs": [
    {
     "ename": "SyntaxError",
     "evalue": "invalid syntax (516876612.py, line 1)",
     "output_type": "error",
     "traceback": [
      "\u001b[1;36m  Input \u001b[1;32mIn [36]\u001b[1;36m\u001b[0m\n\u001b[1;33m    jupyter labextension install @jupyterlab/google-drive\u001b[0m\n\u001b[1;37m            ^\u001b[0m\n\u001b[1;31mSyntaxError\u001b[0m\u001b[1;31m:\u001b[0m invalid syntax\n"
     ]
    }
   ],
   "source": []
  },
  {
   "cell_type": "code",
   "execution_count": 32,
   "id": "916fcef2",
   "metadata": {},
   "outputs": [],
   "source": [
    "import pandas as pd\n",
    "from geopy.distance import geodesic\n",
    "import gmplot\n",
    "import webbrowser\n",
    "import numpy as np"
   ]
  },
  {
   "cell_type": "code",
   "execution_count": 33,
   "id": "0c36745b",
   "metadata": {},
   "outputs": [],
   "source": [
    "file = pd.read_csv(\"F:\\miamz\\Downloads\\starbucks_2018_11_06.csv\")"
   ]
  },
  {
   "cell_type": "code",
   "execution_count": 34,
   "id": "dd72600d",
   "metadata": {},
   "outputs": [],
   "source": [
    "countryList = ['KR', 'JP', 'CA', 'GB', 'CN']\n",
    "\n",
    "tempStoresData = [[row['state'], row['latitude'], row['longitude'], row['name']] for index, row in file.iterrows() if row['state'] in countryList]\n",
    "storesData = pd.DataFrame(tempStoresData)\n",
    "storesData.columns = ['country', 'latitude', 'longitude', 'name']"
   ]
  },
  {
   "cell_type": "code",
   "execution_count": 35,
   "id": "56decddc",
   "metadata": {
    "scrolled": true
   },
   "outputs": [
    {
     "name": "stdout",
     "output_type": "stream",
     "text": [
      "KR ok\n",
      "JP ok\n",
      "CA ok\n",
      "GB ok\n",
      "CN ok\n"
     ]
    }
   ],
   "source": [
    "#distance between 2 points for each country\n",
    "distanceList = list()\n",
    "\n",
    "for country in countryList:\n",
    "    latitude = [storesData['latitude'][x] for x in range(len(storesData)) if storesData['country'][x] == country]\n",
    "    longitude = [storesData['longitude'][x] for x in range(len(storesData)) if storesData['country'][x] == country]\n",
    "    numOfStores = len(latitude)\n",
    "    tempDistance = [[0 for y in range(numOfStores)] for x in range(numOfStores)]\n",
    "    for i in range(numOfStores):\n",
    "        for j in range(i+1, numOfStores):\n",
    "            distance = geodesic((latitude[i], longitude[i]), (latitude[j], longitude[j])).km\n",
    "            tempDistance[i][j] = distance\n",
    "            tempDistance[j][i] = tempDistance[i][j]\n",
    "    distanceList.append(tempDistance)\n",
    "    print(country + ' ok')\n",
    "\n",
    "koreaDistanceList = pd.DataFrame(distanceList[0])\n",
    "japanDistanceList = pd.DataFrame(distanceList[1])\n",
    "canadaDistanceList = pd.DataFrame(distanceList[2])\n",
    "gBritainDistanceList = pd.DataFrame(distanceList[3])\n",
    "chinaDistanceList = pd.DataFrame(distanceList[4])"
   ]
  },
  {
   "cell_type": "code",
   "execution_count": 37,
   "id": "59d0f0b0",
   "metadata": {},
   "outputs": [],
   "source": [
    "#calculate average distance between stores in each countries\n",
    "koreaAveDistance = [sum(koreaDistanceList[i])/len(koreaDistanceList) for i in range(len(koreaDistanceList))]\n",
    "japanAveDistance = [sum(japanDistanceList[i])/len(japanDistanceList) for i in range(len(japanDistanceList))]\n",
    "canadaAveDistance = [sum(canadaDistanceList[i])/len(canadaDistanceList) for i in range(len(canadaDistanceList))]\n",
    "gBritainAveDistance = [sum(gBritainDistanceList[i])/len(gBritainDistanceList) for i in range(len(gBritainDistanceList))]\n",
    "chinaAveDistance = [sum(chinaDistanceList[i])/len(chinaDistanceList) for i in range(len(chinaDistanceList))]\n",
    "\n",
    "averageDistance = [koreaAveDistance, japanAveDistance, canadaAveDistance, gBritainAveDistance, chinaAveDistance]"
   ]
  },
  {
   "cell_type": "code",
   "execution_count": 38,
   "id": "7d531d25",
   "metadata": {},
   "outputs": [],
   "source": [
    "#get store with shortest average distance\n",
    "koreaShortest = min(koreaAveDistance)\n",
    "japanShortest = min(japanAveDistance)\n",
    "canadaShortest = min(canadaAveDistance)\n",
    "gBritainShortest = min(gBritainAveDistance)\n",
    "chinaShortest = min(chinaAveDistance)\n",
    "shortestList = [koreaShortest, japanShortest, canadaShortest, gBritainShortest, chinaShortest]\n",
    "\n",
    "storeIndex = [0 for i in range(len(countryList))]\n",
    "for i in range(len(storeIndex)):\n",
    "    for j in range(len(averageDistance[i])):\n",
    "        if averageDistance[i][j] == shortestList[i]:\n",
    "            storeIndex[i] = j\n",
    "            break"
   ]
  },
  {
   "cell_type": "code",
   "execution_count": 39,
   "id": "c2ddb10b",
   "metadata": {},
   "outputs": [
    {
     "name": "stdout",
     "output_type": "stream",
     "text": [
      "[[157, 37.49236, 127.01422, '교대점'], [340, 35.657433, 139.338649, 'Hachioji Tokyu Square'], [611, 51.054574, -113.981984, 'Safeway #8803 Northgate, Calgary'], [200, 51.639082, -0.309162, 'Elstree - Village Hotel'], [333, 30.274128, 120.13665, '杭州EAC店']]\n"
     ]
    }
   ],
   "source": [
    "distributionCenterLoc = list()\n",
    "\n",
    "i = 0\n",
    "for country in countryList:\n",
    "    latitude = [storesData['latitude'][i] for i in range(len(storesData)) if storesData['country'][i] == country]\n",
    "    longitude = [storesData['longitude'][i] for i in range(len(storesData)) if storesData['country'][i] == country]\n",
    "    name = [storesData['name'][i] for i in range(len(storesData)) if storesData['country'][i] == country]\n",
    "    distributionCenterLoc.append([storeIndex[i], latitude[storeIndex[i]], longitude[storeIndex[i]], name[storeIndex[i]]])\n",
    "    i += 1\n",
    "print(distributionCenterLoc)"
   ]
  },
  {
   "cell_type": "code",
   "execution_count": 40,
   "id": "d30e8abf",
   "metadata": {},
   "outputs": [],
   "source": [
    "#export to csv\n",
    "i = 0\n",
    "for country in countryList:\n",
    "    tempD = pd.DataFrame(distanceList[i])\n",
    "    fileSave = 'F:\\miamz\\Downloads\\ ' + country + '.csv'\n",
    "    tempD.to_csv(fileSave, index=False)\n",
    "    i += 1\n",
    "\n",
    "pd.DataFrame(distributionCenterLoc).to_csv('F:\\miamz\\Downloads\\Distribution Center.csv', index=False)\n"
   ]
  },
  {
   "cell_type": "code",
   "execution_count": 45,
   "id": "df89390c",
   "metadata": {},
   "outputs": [
    {
     "data": {
      "text/plain": [
       "True"
      ]
     },
     "execution_count": 45,
     "metadata": {},
     "output_type": "execute_result"
    }
   ],
   "source": [
    "#Korea\n",
    "koreaStoreLocation = [(storesData['latitude'][i], storesData['longitude'][i]) for i in range(len(storesData)) if storesData['country'][i] == 'KR']\n",
    "koreaStore = zip(*koreaStoreLocation)\n",
    "koreaDistibutionCenter = zip(*[(distributionCenterLoc[0][0],distributionCenterLoc[0][1])])\n",
    "gmap = gmplot.GoogleMapPlotter(distributionCenterLoc[0][0],\n",
    "                                distributionCenterLoc[0][1], 15 )\n",
    "gmap.scatter(*koreaStore, color='blue', marker=True)\n",
    "gmap.scatter(*koreaDistibutionCenter, color='blue', size=10, marker=True)\n",
    "\n",
    "gmap.draw('F:\\miamz\\Downloads\\map\\koreaMap.html')\n",
    "webbrowser.open_new_tab(\"F:\\miamz\\DOwnloads\\map\\koreaMap.html\")\n"
   ]
  },
  {
   "cell_type": "code",
   "execution_count": 23,
   "id": "31660ed0",
   "metadata": {},
   "outputs": [
    {
     "data": {
      "text/plain": [
       "True"
      ]
     },
     "execution_count": 23,
     "metadata": {},
     "output_type": "execute_result"
    }
   ],
   "source": [
    "#Japan\n",
    "japanStore = zip(*[(storesData['latitude'][i], storesData['longitude'][i]) for i in range(len(storesData)) if storesData['country'][i] == 'JP'])\n",
    "japanDistributionCenter = zip(*[(distributionCenterLoc[1][0], distributionCenterLoc[1][1])])\n",
    "gmap = gmplot.GoogleMapPlotter(distributionCenterLoc[1][0], distributionCenterLoc[1][1], 15)\n",
    "gmap.scatter(*japanStore, color='blue', marker=True)\n",
    "gmap.scatter(*japanDistributionCenter, color='green', size=10, marker=True)\n",
    "\n",
    "gmap.draw(\"F:\\miamz\\Downloads\\map\\japanMap.html\")\n",
    "webbrowser.open_new_tab(\"F:\\miamz\\Downloads\\map\\japanMap.html\")"
   ]
  },
  {
   "cell_type": "code",
   "execution_count": 46,
   "id": "73dcbd47",
   "metadata": {},
   "outputs": [
    {
     "data": {
      "text/plain": [
       "True"
      ]
     },
     "execution_count": 46,
     "metadata": {},
     "output_type": "execute_result"
    }
   ],
   "source": [
    "#Canada\n",
    "canadaStore = zip(*[(storesData['latitude'][i], storesData['longitude'][i]) for i in range(len(storesData)) if storesData['country'][i] == 'CA'])\n",
    "canadaDistributionCenter = zip(*[(distributionCenterLoc[2][0], distributionCenterLoc[2][1])])\n",
    "gmap = gmplot.GoogleMapPlotter(distributionCenterLoc[2][0], distributionCenterLoc[2][1], 15)\n",
    "gmap.scatter(*canadaStore, color='blue', marker=True)\n",
    "gmap.scatter(*canadaDistributionCenter, color='green', siez=10, marker=True)\n",
    "\n",
    "gmap.draw(\"F:\\miamz\\Downloads\\map\\canadaMap.html\")\n",
    "webbrowser.open_new_tab(\"F:\\miamz\\Downloads\\map\\canadaMap.html\")"
   ]
  },
  {
   "cell_type": "code",
   "execution_count": 47,
   "id": "323b7d73",
   "metadata": {},
   "outputs": [
    {
     "data": {
      "text/plain": [
       "True"
      ]
     },
     "execution_count": 47,
     "metadata": {},
     "output_type": "execute_result"
    }
   ],
   "source": [
    "#Great Britain\n",
    "gBritainStore = zip(*[(storesData['latitude'][i], storesData['longitude'][i]) for i in range(len(storesData)) if storesData['country'][i] == 'GB'])\n",
    "gBritainDistributionCenter = zip(*[(distributionCenterLoc[3][0], distributionCenterLoc[3][1])])\n",
    "gmap = gmplot.GoogleMapPlotter(distributionCenterLoc[3][0], distributionCenterLoc[3][1], 15)\n",
    "gmap.scatter(*gBritainStore, color='blue', marker=True)\n",
    "gmap.scatter(*gBritainDistributionCenter, color='green', siez=10, marker=True)\n",
    "\n",
    "gmap.draw(\"F:\\miamz\\Downloads\\map\\gBritainMap.html\")\n",
    "webbrowser.open_new_tab(\"F:\\miamz\\Downloads\\map\\gBritainMap.html\")"
   ]
  },
  {
   "cell_type": "code",
   "execution_count": 48,
   "id": "47bdff9d",
   "metadata": {},
   "outputs": [
    {
     "data": {
      "text/plain": [
       "True"
      ]
     },
     "execution_count": 48,
     "metadata": {},
     "output_type": "execute_result"
    }
   ],
   "source": [
    "#China\n",
    "chinaStore = zip(*[(storesData['latitude'][i], storesData['longitude'][i]) for i in range(len(storesData)) if storesData['country'][i] == 'CN'])\n",
    "chinaDistributionCenter = zip(*[(distributionCenterLoc[4][0], distributionCenterLoc[4][1])])\n",
    "gmap = gmplot.GoogleMapPlotter(distributionCenterLoc[4][0], distributionCenterLoc[4][1], 15)\n",
    "gmap.scatter(*chinaStore, color='blue', marker=True)\n",
    "gmap.scatter(*chinaDistributionCenter, color='green', siez=10, marker=True)\n",
    "\n",
    "gmap.draw(\"F:\\miamz\\Downloads\\map\\chinaMap.html\")\n",
    "webbrowser.open_new_tab(\"F:\\miamz\\Downloads\\map\\chinaMap.html\")"
   ]
  },
  {
   "cell_type": "code",
   "execution_count": null,
   "id": "c1d3fa01",
   "metadata": {},
   "outputs": [],
   "source": []
  }
 ],
 "metadata": {
  "kernelspec": {
   "display_name": "Python 3 (ipykernel)",
   "language": "python",
   "name": "python3"
  },
  "language_info": {
   "codemirror_mode": {
    "name": "ipython",
    "version": 3
   },
   "file_extension": ".py",
   "mimetype": "text/x-python",
   "name": "python",
   "nbconvert_exporter": "python",
   "pygments_lexer": "ipython3",
   "version": "3.9.12"
  }
 },
 "nbformat": 4,
 "nbformat_minor": 5
}
